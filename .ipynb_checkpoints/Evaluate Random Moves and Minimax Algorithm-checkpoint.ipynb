{
 "cells": [
  {
   "cell_type": "markdown",
   "id": "aggregate-aviation",
   "metadata": {},
   "source": [
    "## Import Packages and Expert Data Set"
   ]
  },
  {
   "cell_type": "code",
   "execution_count": 1,
   "id": "informative-computer",
   "metadata": {},
   "outputs": [],
   "source": [
    "import pickle\n",
    "import chess\n",
    "import pandas as pd\n",
    "import numpy as np \n",
    "from chess_minimax import get_minimax_move\n",
    "from chess_random import get_random_move"
   ]
  },
  {
   "cell_type": "code",
   "execution_count": 2,
   "id": "delayed-allowance",
   "metadata": {},
   "outputs": [
    {
     "name": "stdout",
     "output_type": "stream",
     "text": [
      "<class 'pandas.core.frame.DataFrame'>\n",
      "Index: 106 entries, Game47674 to Game993220\n",
      "Data columns (total 7 columns):\n",
      " #   Column         Non-Null Count  Dtype \n",
      "---  ------         --------------  ----- \n",
      " 0   BlackElo       106 non-null    object\n",
      " 1   WhiteElo       106 non-null    object\n",
      " 2   moves          106 non-null    object\n",
      " 3   move_num       106 non-null    object\n",
      " 4   winner         106 non-null    object\n",
      " 5   Black_Elo_Num  106 non-null    int64 \n",
      " 6   White_Elo_Num  106 non-null    int64 \n",
      "dtypes: int64(2), object(5)\n",
      "memory usage: 6.6+ KB\n"
     ]
    }
   ],
   "source": [
    "with open('2014_08_over_2400_chess_data.pickle','rb') as read_file:\n",
    "    chess_df = pickle.load(read_file)\n",
    "\n",
    "chess_df.info()"
   ]
  },
  {
   "cell_type": "markdown",
   "id": "major-surrey",
   "metadata": {},
   "source": [
    "<br>"
   ]
  },
  {
   "cell_type": "markdown",
   "id": "important-gossip",
   "metadata": {},
   "source": [
    "## Data Cleaning and Transformation"
   ]
  },
  {
   "cell_type": "code",
   "execution_count": 3,
   "id": "referenced-ethics",
   "metadata": {},
   "outputs": [],
   "source": [
    "# Create variable for just moves\n",
    "moves = chess_df['moves']"
   ]
  },
  {
   "cell_type": "code",
   "execution_count": 4,
   "id": "military-medication",
   "metadata": {},
   "outputs": [],
   "source": [
    "# Transform data set to individual moves per row \n",
    "\n",
    "# List of characters to remove from moves \n",
    "char_list = []\n",
    "for i in range(1,500):\n",
    "    char_list.append(str(i) + '.')\n",
    "\n",
    "move_list = []\n",
    "\n",
    "for game in moves:\n",
    "    index = list(moves).index(game)\n",
    "    allmoves = game.split()\n",
    "    all_moves = [elem for elem in allmoves if elem not in char_list]\n",
    "    board = chess.Board()\n",
    "    for i in range(len(all_moves)):\n",
    "        board.push_san(all_moves[i])\n",
    "        fen = board.fen()\n",
    "        row = [index, i, fen, all_moves[i]]\n",
    "        move_list.append(row)"
   ]
  },
  {
   "cell_type": "code",
   "execution_count": 5,
   "id": "fitted-basis",
   "metadata": {},
   "outputs": [
    {
     "name": "stderr",
     "output_type": "stream",
     "text": [
      "<ipython-input-5-f9910dc1f054>:8: FutureWarning: Indexing with multiple keys (implicitly converted to a tuple of keys) will be deprecated, use a list instead.\n",
      "  ddf = move_df.groupby(['Game_Num'])['Move_Num', 'FEN', 'Move', 'Next_Move'].apply(lambda x : x[:-1])\n"
     ]
    }
   ],
   "source": [
    "# Turn list into dataframe\n",
    "move_df = pd.DataFrame(move_list, columns = ['Game_Num', 'Move_Num', 'FEN', 'Move'])\n",
    "\n",
    "# Create variable for next move\n",
    "move_df['Next_Move'] = move_df.Move.shift(-1)\n",
    "\n",
    "# Remove last move from each game\n",
    "ddf = move_df.groupby(['Game_Num'])['Move_Num', 'FEN', 'Move', 'Next_Move'].apply(lambda x : x[:-1])"
   ]
  },
  {
   "cell_type": "markdown",
   "id": "independent-spokesman",
   "metadata": {},
   "source": [
    "<br>"
   ]
  },
  {
   "cell_type": "markdown",
   "id": "adequate-purchase",
   "metadata": {},
   "source": [
    "## Run Functions and Evaluate the Moves Matched"
   ]
  },
  {
   "cell_type": "code",
   "execution_count": 6,
   "id": "reduced-announcement",
   "metadata": {},
   "outputs": [],
   "source": [
    "# Use Minimax to get next move\n",
    "ddf['Minimax_Move'] = ddf['FEN'].apply(get_minimax_move)"
   ]
  },
  {
   "cell_type": "code",
   "execution_count": 134,
   "id": "ruled-battlefield",
   "metadata": {},
   "outputs": [],
   "source": [
    "# Use Random to get next move\n",
    "ddf['Rand_Move'] = ddf['FEN'].apply(get_random_move)"
   ]
  },
  {
   "cell_type": "code",
   "execution_count": 135,
   "id": "structural-shopping",
   "metadata": {},
   "outputs": [],
   "source": [
    "# Create comparison variables\n",
    "ddf['Random_Compare'] = np.where(ddf['Next_Move'] == ddf['Rand_Move'], True, False)\n",
    "ddf['Minimax_Compare'] = np.where(ddf['Next_Move'] == ddf['Minimax_Move'], True, False)"
   ]
  },
  {
   "cell_type": "code",
   "execution_count": 136,
   "id": "charged-zimbabwe",
   "metadata": {},
   "outputs": [
    {
     "data": {
      "text/plain": [
       "False    8529\n",
       "True      540\n",
       "Name: Random_Compare, dtype: int64"
      ]
     },
     "execution_count": 136,
     "metadata": {},
     "output_type": "execute_result"
    }
   ],
   "source": [
    "# Find what % of moves matched\n",
    "ddf['Random_Compare'].value_counts()"
   ]
  },
  {
   "cell_type": "code",
   "execution_count": 137,
   "id": "looking-youth",
   "metadata": {},
   "outputs": [
    {
     "data": {
      "text/plain": [
       "False    8521\n",
       "True      548\n",
       "Name: Minimax_Compare, dtype: int64"
      ]
     },
     "execution_count": 137,
     "metadata": {},
     "output_type": "execute_result"
    }
   ],
   "source": [
    "# Find what % of moves matched\n",
    "ddf['Minimax_Compare'].value_counts()"
   ]
  },
  {
   "cell_type": "markdown",
   "id": "natural-danish",
   "metadata": {},
   "source": [
    "<br>"
   ]
  },
  {
   "cell_type": "markdown",
   "id": "short-material",
   "metadata": {},
   "source": [
    "## Look at Recommendation Performance by Stage of Game"
   ]
  },
  {
   "cell_type": "code",
   "execution_count": 138,
   "id": "essential-target",
   "metadata": {},
   "outputs": [
    {
     "data": {
      "text/html": [
       "<div>\n",
       "<style scoped>\n",
       "    .dataframe tbody tr th:only-of-type {\n",
       "        vertical-align: middle;\n",
       "    }\n",
       "\n",
       "    .dataframe tbody tr th {\n",
       "        vertical-align: top;\n",
       "    }\n",
       "\n",
       "    .dataframe thead th {\n",
       "        text-align: right;\n",
       "    }\n",
       "</style>\n",
       "<table border=\"1\" class=\"dataframe\">\n",
       "  <thead>\n",
       "    <tr style=\"text-align: right;\">\n",
       "      <th></th>\n",
       "      <th></th>\n",
       "      <th>Move_Num</th>\n",
       "      <th>FEN</th>\n",
       "      <th>Move</th>\n",
       "      <th>Next_Move</th>\n",
       "      <th>Minimax_Move</th>\n",
       "      <th>Rand_Move</th>\n",
       "      <th>Random_Compare</th>\n",
       "      <th>Minimax_Compare</th>\n",
       "      <th>Total_Moves</th>\n",
       "      <th>Percent_Through_Game</th>\n",
       "      <th>Stage_Of_Game</th>\n",
       "    </tr>\n",
       "    <tr>\n",
       "      <th>Game_Num</th>\n",
       "      <th></th>\n",
       "      <th></th>\n",
       "      <th></th>\n",
       "      <th></th>\n",
       "      <th></th>\n",
       "      <th></th>\n",
       "      <th></th>\n",
       "      <th></th>\n",
       "      <th></th>\n",
       "      <th></th>\n",
       "      <th></th>\n",
       "      <th></th>\n",
       "    </tr>\n",
       "  </thead>\n",
       "  <tbody>\n",
       "    <tr>\n",
       "      <th rowspan=\"5\" valign=\"top\">0</th>\n",
       "      <th>0</th>\n",
       "      <td>0</td>\n",
       "      <td>rnbqkbnr/pppppppp/8/8/4P3/8/PPPP1PPP/RNBQKBNR ...</td>\n",
       "      <td>e4</td>\n",
       "      <td>e6</td>\n",
       "      <td>Nh6</td>\n",
       "      <td>Na6</td>\n",
       "      <td>False</td>\n",
       "      <td>False</td>\n",
       "      <td>42</td>\n",
       "      <td>0.023810</td>\n",
       "      <td>Beginning</td>\n",
       "    </tr>\n",
       "    <tr>\n",
       "      <th>1</th>\n",
       "      <td>1</td>\n",
       "      <td>rnbqkbnr/pppp1ppp/4p3/8/4P3/8/PPPP1PPP/RNBQKBN...</td>\n",
       "      <td>e6</td>\n",
       "      <td>Nc3</td>\n",
       "      <td>Nh3</td>\n",
       "      <td>Na3</td>\n",
       "      <td>False</td>\n",
       "      <td>False</td>\n",
       "      <td>42</td>\n",
       "      <td>0.047619</td>\n",
       "      <td>Beginning</td>\n",
       "    </tr>\n",
       "    <tr>\n",
       "      <th>2</th>\n",
       "      <td>2</td>\n",
       "      <td>rnbqkbnr/pppp1ppp/4p3/8/4P3/2N5/PPPP1PPP/R1BQK...</td>\n",
       "      <td>Nc3</td>\n",
       "      <td>Nf6</td>\n",
       "      <td>Ne7</td>\n",
       "      <td>Bc5</td>\n",
       "      <td>False</td>\n",
       "      <td>False</td>\n",
       "      <td>42</td>\n",
       "      <td>0.071429</td>\n",
       "      <td>Beginning</td>\n",
       "    </tr>\n",
       "    <tr>\n",
       "      <th>3</th>\n",
       "      <td>3</td>\n",
       "      <td>rnbqkb1r/pppp1ppp/4pn2/8/4P3/2N5/PPPP1PPP/R1BQ...</td>\n",
       "      <td>Nf6</td>\n",
       "      <td>e5</td>\n",
       "      <td>Nd5</td>\n",
       "      <td>a4</td>\n",
       "      <td>False</td>\n",
       "      <td>False</td>\n",
       "      <td>42</td>\n",
       "      <td>0.095238</td>\n",
       "      <td>Beginning</td>\n",
       "    </tr>\n",
       "    <tr>\n",
       "      <th>4</th>\n",
       "      <td>4</td>\n",
       "      <td>rnbqkb1r/pppp1ppp/4pn2/4P3/8/2N5/PPPP1PPP/R1BQ...</td>\n",
       "      <td>e5</td>\n",
       "      <td>Nd5</td>\n",
       "      <td>Rg8</td>\n",
       "      <td>Nc6</td>\n",
       "      <td>False</td>\n",
       "      <td>False</td>\n",
       "      <td>42</td>\n",
       "      <td>0.119048</td>\n",
       "      <td>Beginning</td>\n",
       "    </tr>\n",
       "  </tbody>\n",
       "</table>\n",
       "</div>"
      ],
      "text/plain": [
       "            Move_Num                                                FEN Move  \\\n",
       "Game_Num                                                                       \n",
       "0        0         0  rnbqkbnr/pppppppp/8/8/4P3/8/PPPP1PPP/RNBQKBNR ...   e4   \n",
       "         1         1  rnbqkbnr/pppp1ppp/4p3/8/4P3/8/PPPP1PPP/RNBQKBN...   e6   \n",
       "         2         2  rnbqkbnr/pppp1ppp/4p3/8/4P3/2N5/PPPP1PPP/R1BQK...  Nc3   \n",
       "         3         3  rnbqkb1r/pppp1ppp/4pn2/8/4P3/2N5/PPPP1PPP/R1BQ...  Nf6   \n",
       "         4         4  rnbqkb1r/pppp1ppp/4pn2/4P3/8/2N5/PPPP1PPP/R1BQ...   e5   \n",
       "\n",
       "           Next_Move Minimax_Move Rand_Move  Random_Compare  Minimax_Compare  \\\n",
       "Game_Num                                                                       \n",
       "0        0        e6          Nh6       Na6           False            False   \n",
       "         1       Nc3          Nh3       Na3           False            False   \n",
       "         2       Nf6          Ne7       Bc5           False            False   \n",
       "         3        e5          Nd5        a4           False            False   \n",
       "         4       Nd5          Rg8       Nc6           False            False   \n",
       "\n",
       "            Total_Moves  Percent_Through_Game Stage_Of_Game  \n",
       "Game_Num                                                     \n",
       "0        0           42              0.023810     Beginning  \n",
       "         1           42              0.047619     Beginning  \n",
       "         2           42              0.071429     Beginning  \n",
       "         3           42              0.095238     Beginning  \n",
       "         4           42              0.119048     Beginning  "
      ]
     },
     "execution_count": 138,
     "metadata": {},
     "output_type": "execute_result"
    }
   ],
   "source": [
    "# Get number of total moves in the game, 1 is added because I removed the last move earlier\n",
    "ddf['Total_Moves'] = ddf.groupby(['Game_Num'])['Move_Num'].transform(max) + 1\n",
    "\n",
    "# Find percent of the way through the game\n",
    "ddf['Percent_Through_Game'] = (ddf['Move_Num']+1)/ddf['Total_Moves']\n",
    "\n",
    "# Classify as beginning, middle, or end \n",
    "ddf['Stage_Of_Game'] = np.where(ddf['Percent_Through_Game'] < .3334, 'Beginning',\n",
    "                       np.where(ddf['Percent_Through_Game'] < .6667, 'Middle',         \n",
    "                               'End'))\n",
    "ddf.head()"
   ]
  },
  {
   "cell_type": "code",
   "execution_count": 139,
   "id": "going-encoding",
   "metadata": {},
   "outputs": [
    {
     "data": {
      "text/html": [
       "<div>\n",
       "<style scoped>\n",
       "    .dataframe tbody tr th:only-of-type {\n",
       "        vertical-align: middle;\n",
       "    }\n",
       "\n",
       "    .dataframe tbody tr th {\n",
       "        vertical-align: top;\n",
       "    }\n",
       "\n",
       "    .dataframe thead th {\n",
       "        text-align: right;\n",
       "    }\n",
       "</style>\n",
       "<table border=\"1\" class=\"dataframe\">\n",
       "  <thead>\n",
       "    <tr style=\"text-align: right;\">\n",
       "      <th>Stage_Of_Game</th>\n",
       "      <th>Beginning</th>\n",
       "      <th>End</th>\n",
       "      <th>Middle</th>\n",
       "    </tr>\n",
       "    <tr>\n",
       "      <th>Minimax_Compare</th>\n",
       "      <th></th>\n",
       "      <th></th>\n",
       "      <th></th>\n",
       "    </tr>\n",
       "  </thead>\n",
       "  <tbody>\n",
       "    <tr>\n",
       "      <th>False</th>\n",
       "      <td>2900</td>\n",
       "      <td>2763</td>\n",
       "      <td>2858</td>\n",
       "    </tr>\n",
       "    <tr>\n",
       "      <th>True</th>\n",
       "      <td>85</td>\n",
       "      <td>298</td>\n",
       "      <td>165</td>\n",
       "    </tr>\n",
       "  </tbody>\n",
       "</table>\n",
       "</div>"
      ],
      "text/plain": [
       "Stage_Of_Game    Beginning   End  Middle\n",
       "Minimax_Compare                         \n",
       "False                 2900  2763    2858\n",
       "True                    85   298     165"
      ]
     },
     "execution_count": 139,
     "metadata": {},
     "output_type": "execute_result"
    }
   ],
   "source": [
    "# Crosstab of Minimax moves matched by stage of game\n",
    "pd.crosstab(ddf['Minimax_Compare'], ddf['Stage_Of_Game'])"
   ]
  },
  {
   "cell_type": "code",
   "execution_count": 140,
   "id": "demographic-mistake",
   "metadata": {},
   "outputs": [
    {
     "data": {
      "text/html": [
       "<div>\n",
       "<style scoped>\n",
       "    .dataframe tbody tr th:only-of-type {\n",
       "        vertical-align: middle;\n",
       "    }\n",
       "\n",
       "    .dataframe tbody tr th {\n",
       "        vertical-align: top;\n",
       "    }\n",
       "\n",
       "    .dataframe thead th {\n",
       "        text-align: right;\n",
       "    }\n",
       "</style>\n",
       "<table border=\"1\" class=\"dataframe\">\n",
       "  <thead>\n",
       "    <tr style=\"text-align: right;\">\n",
       "      <th>Stage_Of_Game</th>\n",
       "      <th>Beginning</th>\n",
       "      <th>End</th>\n",
       "      <th>Middle</th>\n",
       "    </tr>\n",
       "    <tr>\n",
       "      <th>Random_Compare</th>\n",
       "      <th></th>\n",
       "      <th></th>\n",
       "      <th></th>\n",
       "    </tr>\n",
       "  </thead>\n",
       "  <tbody>\n",
       "    <tr>\n",
       "      <th>False</th>\n",
       "      <td>2886</td>\n",
       "      <td>2765</td>\n",
       "      <td>2878</td>\n",
       "    </tr>\n",
       "    <tr>\n",
       "      <th>True</th>\n",
       "      <td>99</td>\n",
       "      <td>296</td>\n",
       "      <td>145</td>\n",
       "    </tr>\n",
       "  </tbody>\n",
       "</table>\n",
       "</div>"
      ],
      "text/plain": [
       "Stage_Of_Game   Beginning   End  Middle\n",
       "Random_Compare                         \n",
       "False                2886  2765    2878\n",
       "True                   99   296     145"
      ]
     },
     "execution_count": 140,
     "metadata": {},
     "output_type": "execute_result"
    }
   ],
   "source": [
    "# Crosstab of Randome moves matched by stage of game\n",
    "pd.crosstab(ddf['Random_Compare'], ddf['Stage_Of_Game'])"
   ]
  },
  {
   "cell_type": "markdown",
   "id": "optional-ecology",
   "metadata": {},
   "source": [
    "#### Both show improvement at end of game, likely because the pool of possible moves diminishes towards the end of the game"
   ]
  }
 ],
 "metadata": {
  "kernelspec": {
   "display_name": "tfflask",
   "language": "python",
   "name": "tfflask"
  },
  "language_info": {
   "codemirror_mode": {
    "name": "ipython",
    "version": 3
   },
   "file_extension": ".py",
   "mimetype": "text/x-python",
   "name": "python",
   "nbconvert_exporter": "python",
   "pygments_lexer": "ipython3",
   "version": "3.8.8"
  }
 },
 "nbformat": 4,
 "nbformat_minor": 5
}
